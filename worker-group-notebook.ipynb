{
 "cells": [
  {
   "cell_type": "code",
   "execution_count": 1,
   "metadata": {},
   "outputs": [
    {
     "name": "stdout",
     "output_type": "stream",
     "text": [
      "('Solutions found:', 5760)\n",
      "('Time:', 94, 'ms')\n",
      "()\n",
      "('Solution number', 0, '\\n')\n",
      "('Student', 5, 'assigned to Group', 0)\n",
      "('Student', 7, 'assigned to Group', 0)\n",
      "('Student', 9, 'assigned to Group', 0)\n",
      "('Student', 11, 'assigned to Group', 0)\n",
      "()\n",
      "('Student', 1, 'assigned to Group', 1)\n",
      "('Student', 3, 'assigned to Group', 1)\n",
      "('Student', 8, 'assigned to Group', 1)\n",
      "('Student', 10, 'assigned to Group', 1)\n",
      "()\n",
      "('Student', 0, 'assigned to Group', 2)\n",
      "('Student', 2, 'assigned to Group', 2)\n",
      "('Student', 4, 'assigned to Group', 2)\n",
      "('Student', 6, 'assigned to Group', 2)\n",
      "()\n",
      "('Solution number', 1, '\\n')\n",
      "('Student', 5, 'assigned to Group', 0)\n",
      "('Student', 7, 'assigned to Group', 0)\n",
      "('Student', 9, 'assigned to Group', 0)\n",
      "('Student', 10, 'assigned to Group', 0)\n",
      "()\n",
      "('Student', 1, 'assigned to Group', 1)\n",
      "('Student', 3, 'assigned to Group', 1)\n",
      "('Student', 8, 'assigned to Group', 1)\n",
      "('Student', 11, 'assigned to Group', 1)\n",
      "()\n",
      "('Student', 0, 'assigned to Group', 2)\n",
      "('Student', 2, 'assigned to Group', 2)\n",
      "('Student', 4, 'assigned to Group', 2)\n",
      "('Student', 6, 'assigned to Group', 2)\n",
      "()\n",
      "('Solution number', 2, '\\n')\n",
      "('Student', 5, 'assigned to Group', 0)\n",
      "('Student', 7, 'assigned to Group', 0)\n",
      "('Student', 8, 'assigned to Group', 0)\n",
      "('Student', 11, 'assigned to Group', 0)\n",
      "()\n",
      "('Student', 1, 'assigned to Group', 1)\n",
      "('Student', 3, 'assigned to Group', 1)\n",
      "('Student', 9, 'assigned to Group', 1)\n",
      "('Student', 10, 'assigned to Group', 1)\n",
      "()\n",
      "('Student', 0, 'assigned to Group', 2)\n",
      "('Student', 2, 'assigned to Group', 2)\n",
      "('Student', 4, 'assigned to Group', 2)\n",
      "('Student', 6, 'assigned to Group', 2)\n",
      "()\n",
      "('Solution number', 3, '\\n')\n",
      "('Student', 5, 'assigned to Group', 0)\n",
      "('Student', 7, 'assigned to Group', 0)\n",
      "('Student', 8, 'assigned to Group', 0)\n",
      "('Student', 10, 'assigned to Group', 0)\n",
      "()\n",
      "('Student', 1, 'assigned to Group', 1)\n",
      "('Student', 3, 'assigned to Group', 1)\n",
      "('Student', 9, 'assigned to Group', 1)\n",
      "('Student', 11, 'assigned to Group', 1)\n",
      "()\n",
      "('Student', 0, 'assigned to Group', 2)\n",
      "('Student', 2, 'assigned to Group', 2)\n",
      "('Student', 4, 'assigned to Group', 2)\n",
      "('Student', 6, 'assigned to Group', 2)\n",
      "()\n"
     ]
    }
   ],
   "source": [
    "from ortools.constraint_solver import pywrapcp\n",
    "\n",
    "# Creates the solver.\n",
    "solver = pywrapcp.Solver(\"group_assignments\")\n",
    "\n",
    "num_workers = 12\n",
    "num_groups = 3\n",
    "\n",
    "c =[[0 for k in range(num_workers)] for i in range(num_workers)]\n",
    "\n",
    "c[0][1] = 1\n",
    "c[1][0] = 1\n",
    "c[2][3] = 1\n",
    "c[3][2] = 1\n",
    "c[4][5] = 1\n",
    "c[5][4] = 1\n",
    "c[6][7] = 1\n",
    "c[7][6] = 1\n",
    "c[8][9] = 1\n",
    "c[9][8] = 1\n",
    "c[10][11] = 1\n",
    "c[11][10] = 1\n",
    "\n",
    "x = {}\n",
    "for i in range(num_workers):\n",
    "    for j in range(num_groups):\n",
    "        x[(i, j)] = solver.IntVar(0, 1, \"x(%i,%i)\" % (i, j))\n",
    "x_flat = [x[(i, j)] for i in range(num_workers) for j in range(num_groups)]\n",
    "\n",
    "for j in range(num_groups):\n",
    "    solver.Add(solver.Sum([x[(i, j)] > 0 for i in range(num_workers)]) >= 4) # at least one student per group\n",
    "    solver.Add(solver.Sum([x[(i, j)] > 0 for i in range(num_workers)]) <= num_workers - num_groups + 1) # at most number of students per group\n",
    "    \n",
    "for i in range(num_workers):\n",
    "    solver.Add(solver.Sum([x[(i, j)] > 0 for j in range(num_groups)]) == 1) # exactly one group per student\n",
    "\n",
    "# constraint on the historical co-existance of students     \n",
    "for j in range(num_groups):\n",
    "    solver.Add(solver.Sum([x[(i, j)] * x[(k, j)] * c[i][k] > 0 for k in range(num_workers) for i in range(num_workers)]) == 0)\n",
    "    \n",
    "# Create the decision builder.\n",
    "db = solver.Phase(x_flat, solver.CHOOSE_FIRST_UNBOUND, solver.ASSIGN_MIN_VALUE)\n",
    "\n",
    "# Create the solution collector.\n",
    "solution = solver.Assignment()\n",
    "solution.Add(x_flat)\n",
    "collector = solver.AllSolutionCollector(solution)\n",
    "\n",
    "solver.Solve(db, [collector])\n",
    "num_solutions = collector.SolutionCount()\n",
    "print(\"Solutions found:\", num_solutions)\n",
    "print(\"Time:\", solver.WallTime(), \"ms\")\n",
    "print()\n",
    "\n",
    "# Display a few solutions picked at random.\n",
    "a_few_solutions = [0, 1, 2, 3]\n",
    "\n",
    "for sol in a_few_solutions:\n",
    "    print(\"Solution number\" , sol, '\\n')\n",
    "    for j in range(num_groups):\n",
    "        for i in range(num_workers):\n",
    "            xij = collector.Value(sol, x[(i, j)])\n",
    "            if (xij == 1):\n",
    "                print(\"Student\", i, \"assigned to Group\", j)\n",
    "        print()"
   ]
  },
  {
   "cell_type": "code",
   "execution_count": 4,
   "metadata": {},
   "outputs": [],
   "source": [
    "c[0][1] = 1\n",
    "c[1][0] = 1"
   ]
  },
  {
   "cell_type": "code",
   "execution_count": 28,
   "metadata": {},
   "outputs": [
    {
     "data": {
      "text/plain": [
       "[0, 0, 0, 0, 0, 0, 0, 0, 0, 0, 0, 0, 0, 0, 0, 0]"
      ]
     },
     "execution_count": 28,
     "metadata": {},
     "output_type": "execute_result"
    }
   ],
   "source": [
    "xx = [1,0,1,0]\n",
    "[xx[i] * xx[k] * c[i][k] for k in range(4) for i in range(4)]"
   ]
  },
  {
   "cell_type": "code",
   "execution_count": 8,
   "metadata": {},
   "outputs": [
    {
     "data": {
      "text/plain": [
       "BooleanSum([x(0,2), x(1,2), x(2,2), x(3,2), x(4,2), x(5,2), x(6,2), x(7,2), x(8,2), x(9,2), x(10,2), x(11,2)])(0..12)"
      ]
     },
     "execution_count": 8,
     "metadata": {},
     "output_type": "execute_result"
    }
   ],
   "source": [
    "solver.Sum([x[(i, j)] > 0 for i in range(num_students)])"
   ]
  },
  {
   "cell_type": "code",
   "execution_count": 9,
   "metadata": {},
   "outputs": [],
   "source": [
    "Nj = [x[(i, j)] > 0 for i in range(num_students)]"
   ]
  },
  {
   "cell_type": "code",
   "execution_count": 23,
   "metadata": {},
   "outputs": [
    {
     "data": {
      "text/plain": [
       "[('x', 0, 0, 'c', 0, 0, 'c', 0, 0),\n",
       " ('x', 1, 0, 'c', 1, 0, 'c', 0, 1),\n",
       " ('x', 2, 0, 'c', 2, 0, 'c', 0, 2),\n",
       " ('x', 3, 0, 'c', 3, 0, 'c', 0, 3),\n",
       " ('x', 0, 0, 'c', 0, 1, 'c', 1, 0),\n",
       " ('x', 1, 0, 'c', 1, 1, 'c', 1, 1),\n",
       " ('x', 2, 0, 'c', 2, 1, 'c', 1, 2),\n",
       " ('x', 3, 0, 'c', 3, 1, 'c', 1, 3),\n",
       " ('x', 0, 0, 'c', 0, 2, 'c', 2, 0),\n",
       " ('x', 1, 0, 'c', 1, 2, 'c', 2, 1),\n",
       " ('x', 2, 0, 'c', 2, 2, 'c', 2, 2),\n",
       " ('x', 3, 0, 'c', 3, 2, 'c', 2, 3),\n",
       " ('x', 0, 0, 'c', 0, 3, 'c', 3, 0),\n",
       " ('x', 1, 0, 'c', 1, 3, 'c', 3, 1),\n",
       " ('x', 2, 0, 'c', 2, 3, 'c', 3, 2),\n",
       " ('x', 3, 0, 'c', 3, 3, 'c', 3, 3)]"
      ]
     },
     "execution_count": 23,
     "metadata": {},
     "output_type": "execute_result"
    }
   ],
   "source": [
    "#,\"c\",i,k\n",
    "[(\"x\",i,0,\"c\",i,k,\"c\",k,i) for k in range(4) for i in range(4)]"
   ]
  },
  {
   "cell_type": "code",
   "execution_count": 25,
   "metadata": {},
   "outputs": [],
   "source": [
    "import numpy as np\n",
    "X = [[1,0,1,0]]\n",
    "Y = [[1],[0],[1],[0]]\n",
    "DotProduct = np.dot(Y, X)\n",
    "#print('Dot product is : ' , DotProduct)"
   ]
  },
  {
   "cell_type": "code",
   "execution_count": 26,
   "metadata": {},
   "outputs": [
    {
     "data": {
      "text/plain": [
       "array([[1, 0, 1, 0],\n",
       "       [0, 0, 0, 0],\n",
       "       [1, 0, 1, 0],\n",
       "       [0, 0, 0, 0]])"
      ]
     },
     "execution_count": 26,
     "metadata": {},
     "output_type": "execute_result"
    }
   ],
   "source": [
    "DotProduct"
   ]
  },
  {
   "cell_type": "code",
   "execution_count": null,
   "metadata": {},
   "outputs": [],
   "source": []
  }
 ],
 "metadata": {
  "kernelspec": {
   "display_name": "Python 2",
   "language": "python",
   "name": "python2"
  },
  "language_info": {
   "codemirror_mode": {
    "name": "ipython",
    "version": 2
   },
   "file_extension": ".py",
   "mimetype": "text/x-python",
   "name": "python",
   "nbconvert_exporter": "python",
   "pygments_lexer": "ipython2",
   "version": "2.7.14"
  }
 },
 "nbformat": 4,
 "nbformat_minor": 1
}
