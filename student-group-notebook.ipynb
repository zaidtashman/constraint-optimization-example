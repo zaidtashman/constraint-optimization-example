{
 "cells": [
  {
   "cell_type": "code",
   "execution_count": 3,
   "metadata": {},
   "outputs": [],
   "source": [
    "from ortools.constraint_solver import pywrapcp\n",
    "\n",
    "# Creates the solver.\n",
    "solver = pywrapcp.Solver(\"group_assignments\")\n",
    "\n",
    "num_students = 4\n",
    "num_groups = 2\n",
    "\n",
    "c =[[0 for k in range(num_students)] for i in range(num_students)]\n",
    "c[0][1] = 1\n",
    "c[1][0] = 1\n",
    "c[2][3] = 1\n",
    "c[3][2] = 1\n",
    "c[2][1] = 1\n",
    "c[1][2] = 1\n",
    "c[3][0] = 1\n",
    "c[0][3] = 1"
   ]
  },
  {
   "cell_type": "code",
   "execution_count": 4,
   "metadata": {},
   "outputs": [
    {
     "name": "stdout",
     "output_type": "stream",
     "text": [
      "('Solutions found:', 2)\n",
      "('Time:', 1493, 'ms')\n",
      "()\n",
      "('Solution number', 0, '\\n')\n",
      "('Student', 1, 'assigned to Group', 0)\n",
      "('Student', 3, 'assigned to Group', 0)\n",
      "()\n",
      "('Student', 0, 'assigned to Group', 1)\n",
      "('Student', 2, 'assigned to Group', 1)\n",
      "()\n"
     ]
    }
   ],
   "source": [
    "x = {}\n",
    "for i in range(num_students):\n",
    "    for j in range(num_groups):\n",
    "        x[(i, j)] = solver.IntVar(0, 1, \"x(%i,%i)\" % (i, j))\n",
    "x_flat = [x[(i, j)] for i in range(num_students) for j in range(num_groups)]\n",
    "\n",
    "# constraint one\n",
    "for j in range(num_groups):\n",
    "    solver.Add(solver.Sum([x[(i, j)] > 0 for i in range(num_students)]) >= 2) # at least one student per group\n",
    "    solver.Add(solver.Sum([x[(i, j)] > 0 for i in range(num_students)]) <= 2) #num_students - num_groups + 1) # at most number of students per group\n",
    "\n",
    "    # constraint two    \n",
    "for i in range(num_students):\n",
    "    solver.Add(solver.Sum([x[(i, j)] > 0 for j in range(num_groups)]) == 1) # exactly one group per student\n",
    "\n",
    "# constraint on the historical co-existance of students     \n",
    "for j in range(num_groups):\n",
    "    solver.Add(solver.Sum([x[(i, j)] * x[(k, j)] * c[i][k] > 0 for k in range(num_students) for i in range(num_students)]) == 0)\n",
    "    \n",
    "# Create the decision builder.\n",
    "db = solver.Phase(x_flat, solver.CHOOSE_FIRST_UNBOUND, solver.ASSIGN_MIN_VALUE)\n",
    "\n",
    "# Create the solution collector.\n",
    "solution = solver.Assignment()\n",
    "solution.Add(x_flat)\n",
    "collector = solver.AllSolutionCollector(solution)\n",
    "\n",
    "solver.Solve(db, [collector])\n",
    "num_solutions = collector.SolutionCount()\n",
    "print(\"Solutions found:\", num_solutions)\n",
    "print(\"Time:\", solver.WallTime(), \"ms\")\n",
    "print()\n",
    "\n",
    "# Display a few solutions picked at random.\n",
    "a_few_solutions = [0]#, 1, 2, 3]\n",
    "\n",
    "for sol in a_few_solutions:\n",
    "    print(\"Solution number\" , sol, '\\n')\n",
    "    for j in range(num_groups):\n",
    "        for i in range(num_students):\n",
    "            xij = collector.Value(sol, x[(i, j)])\n",
    "            if (xij == 1):\n",
    "                print(\"Student\", i, \"assigned to Group\", j)\n",
    "        print()"
   ]
  }
 ],
 "metadata": {
  "kernelspec": {
   "display_name": "Python 2",
   "language": "python",
   "name": "python2"
  },
  "language_info": {
   "codemirror_mode": {
    "name": "ipython",
    "version": 2
   },
   "file_extension": ".py",
   "mimetype": "text/x-python",
   "name": "python",
   "nbconvert_exporter": "python",
   "pygments_lexer": "ipython2",
   "version": "2.7.14"
  }
 },
 "nbformat": 4,
 "nbformat_minor": 1
}
